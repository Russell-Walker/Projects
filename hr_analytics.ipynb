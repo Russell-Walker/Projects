{
 "cells": [
  {
   "cell_type": "code",
   "execution_count": 1,
   "metadata": {
    "collapsed": true,
    "ExecuteTime": {
     "end_time": "2023-06-03T09:59:30.239947100Z",
     "start_time": "2023-06-03T09:59:27.558525Z"
    }
   },
   "outputs": [
    {
     "data": {
      "text/plain": "       satisfaction_level  last_evaluation  number_project   \n0                    0.38             0.53               2  \\\n1                    0.80             0.86               5   \n2                    0.11             0.88               7   \n3                    0.72             0.87               5   \n4                    0.37             0.52               2   \n...                   ...              ...             ...   \n14994                0.40             0.57               2   \n14995                0.37             0.48               2   \n14996                0.37             0.53               2   \n14997                0.11             0.96               6   \n14998                0.37             0.52               2   \n\n       average_montly_hours  time_spend_company  Work_accident  left   \n0                       157                   3              0     1  \\\n1                       262                   6              0     1   \n2                       272                   4              0     1   \n3                       223                   5              0     1   \n4                       159                   3              0     1   \n...                     ...                 ...            ...   ...   \n14994                   151                   3              0     1   \n14995                   160                   3              0     1   \n14996                   143                   3              0     1   \n14997                   280                   4              0     1   \n14998                   158                   3              0     1   \n\n       promotion_last_5years    sales  salary  \n0                          0    sales     low  \n1                          0    sales  medium  \n2                          0    sales  medium  \n3                          0    sales     low  \n4                          0    sales     low  \n...                      ...      ...     ...  \n14994                      0  support     low  \n14995                      0  support     low  \n14996                      0  support     low  \n14997                      0  support     low  \n14998                      0  support     low  \n\n[14999 rows x 10 columns]",
      "text/html": "<div>\n<style scoped>\n    .dataframe tbody tr th:only-of-type {\n        vertical-align: middle;\n    }\n\n    .dataframe tbody tr th {\n        vertical-align: top;\n    }\n\n    .dataframe thead th {\n        text-align: right;\n    }\n</style>\n<table border=\"1\" class=\"dataframe\">\n  <thead>\n    <tr style=\"text-align: right;\">\n      <th></th>\n      <th>satisfaction_level</th>\n      <th>last_evaluation</th>\n      <th>number_project</th>\n      <th>average_montly_hours</th>\n      <th>time_spend_company</th>\n      <th>Work_accident</th>\n      <th>left</th>\n      <th>promotion_last_5years</th>\n      <th>sales</th>\n      <th>salary</th>\n    </tr>\n  </thead>\n  <tbody>\n    <tr>\n      <th>0</th>\n      <td>0.38</td>\n      <td>0.53</td>\n      <td>2</td>\n      <td>157</td>\n      <td>3</td>\n      <td>0</td>\n      <td>1</td>\n      <td>0</td>\n      <td>sales</td>\n      <td>low</td>\n    </tr>\n    <tr>\n      <th>1</th>\n      <td>0.80</td>\n      <td>0.86</td>\n      <td>5</td>\n      <td>262</td>\n      <td>6</td>\n      <td>0</td>\n      <td>1</td>\n      <td>0</td>\n      <td>sales</td>\n      <td>medium</td>\n    </tr>\n    <tr>\n      <th>2</th>\n      <td>0.11</td>\n      <td>0.88</td>\n      <td>7</td>\n      <td>272</td>\n      <td>4</td>\n      <td>0</td>\n      <td>1</td>\n      <td>0</td>\n      <td>sales</td>\n      <td>medium</td>\n    </tr>\n    <tr>\n      <th>3</th>\n      <td>0.72</td>\n      <td>0.87</td>\n      <td>5</td>\n      <td>223</td>\n      <td>5</td>\n      <td>0</td>\n      <td>1</td>\n      <td>0</td>\n      <td>sales</td>\n      <td>low</td>\n    </tr>\n    <tr>\n      <th>4</th>\n      <td>0.37</td>\n      <td>0.52</td>\n      <td>2</td>\n      <td>159</td>\n      <td>3</td>\n      <td>0</td>\n      <td>1</td>\n      <td>0</td>\n      <td>sales</td>\n      <td>low</td>\n    </tr>\n    <tr>\n      <th>...</th>\n      <td>...</td>\n      <td>...</td>\n      <td>...</td>\n      <td>...</td>\n      <td>...</td>\n      <td>...</td>\n      <td>...</td>\n      <td>...</td>\n      <td>...</td>\n      <td>...</td>\n    </tr>\n    <tr>\n      <th>14994</th>\n      <td>0.40</td>\n      <td>0.57</td>\n      <td>2</td>\n      <td>151</td>\n      <td>3</td>\n      <td>0</td>\n      <td>1</td>\n      <td>0</td>\n      <td>support</td>\n      <td>low</td>\n    </tr>\n    <tr>\n      <th>14995</th>\n      <td>0.37</td>\n      <td>0.48</td>\n      <td>2</td>\n      <td>160</td>\n      <td>3</td>\n      <td>0</td>\n      <td>1</td>\n      <td>0</td>\n      <td>support</td>\n      <td>low</td>\n    </tr>\n    <tr>\n      <th>14996</th>\n      <td>0.37</td>\n      <td>0.53</td>\n      <td>2</td>\n      <td>143</td>\n      <td>3</td>\n      <td>0</td>\n      <td>1</td>\n      <td>0</td>\n      <td>support</td>\n      <td>low</td>\n    </tr>\n    <tr>\n      <th>14997</th>\n      <td>0.11</td>\n      <td>0.96</td>\n      <td>6</td>\n      <td>280</td>\n      <td>4</td>\n      <td>0</td>\n      <td>1</td>\n      <td>0</td>\n      <td>support</td>\n      <td>low</td>\n    </tr>\n    <tr>\n      <th>14998</th>\n      <td>0.37</td>\n      <td>0.52</td>\n      <td>2</td>\n      <td>158</td>\n      <td>3</td>\n      <td>0</td>\n      <td>1</td>\n      <td>0</td>\n      <td>support</td>\n      <td>low</td>\n    </tr>\n  </tbody>\n</table>\n<p>14999 rows × 10 columns</p>\n</div>"
     },
     "execution_count": 1,
     "metadata": {},
     "output_type": "execute_result"
    }
   ],
   "source": [
    "import pandas as pd\n",
    "\n",
    "df = pd.read_csv(\"HR_comma_sep.csv\")\n",
    "\n",
    "df"
   ]
  },
  {
   "cell_type": "code",
   "execution_count": null,
   "outputs": [],
   "source": [
    "df.describe()"
   ],
   "metadata": {
    "collapsed": false,
    "is_executing": true
   }
  },
  {
   "cell_type": "code",
   "execution_count": 25,
   "outputs": [
    {
     "data": {
      "text/plain": "0    0.38\n1    0.80\n2    0.11\n3    0.72\n4    0.37\n5    0.41\n6    0.10\nName: satisfaction_level, dtype: float64"
     },
     "execution_count": 25,
     "metadata": {},
     "output_type": "execute_result"
    }
   ],
   "source": [
    "df.loc[:6,'satisfaction_level']"
   ],
   "metadata": {
    "collapsed": false,
    "ExecuteTime": {
     "end_time": "2023-05-21T08:28:42.344217200Z",
     "start_time": "2023-05-21T08:28:42.286735500Z"
    }
   }
  },
  {
   "cell_type": "code",
   "execution_count": 31,
   "outputs": [
    {
     "data": {
      "text/plain": "array([[0.38, 0.53, 2, ..., 0, 'sales', 'low'],\n       [0.8, 0.86, 5, ..., 0, 'sales', 'medium'],\n       [0.11, 0.88, 7, ..., 0, 'sales', 'medium'],\n       ...,\n       [0.37, 0.53, 2, ..., 0, 'support', 'low'],\n       [0.11, 0.96, 6, ..., 0, 'support', 'low'],\n       [0.37, 0.52, 2, ..., 0, 'support', 'low']], dtype=object)"
     },
     "execution_count": 31,
     "metadata": {},
     "output_type": "execute_result"
    }
   ],
   "source": [
    "df.values"
   ],
   "metadata": {
    "collapsed": false,
    "ExecuteTime": {
     "end_time": "2023-05-21T08:29:33.710729900Z",
     "start_time": "2023-05-21T08:29:33.684962600Z"
    }
   }
  },
  {
   "cell_type": "code",
   "execution_count": 39,
   "outputs": [
    {
     "data": {
      "text/plain": "       number_project  average_montly_hours  time_spend_company   \n0                   2                   157                   3  \\\n1                   5                   262                   6   \n2                   7                   272                   4   \n3                   5                   223                   5   \n4                   2                   159                   3   \n...               ...                   ...                 ...   \n14994               2                   151                   3   \n14995               2                   160                   3   \n14996               2                   143                   3   \n14997               6                   280                   4   \n14998               2                   158                   3   \n\n       Work_accident  left  promotion_last_5years    sales  salary  \n0                  0     1                      0    sales     low  \n1                  0     1                      0    sales  medium  \n2                  0     1                      0    sales  medium  \n3                  0     1                      0    sales     low  \n4                  0     1                      0    sales     low  \n...              ...   ...                    ...      ...     ...  \n14994              0     1                      0  support     low  \n14995              0     1                      0  support     low  \n14996              0     1                      0  support     low  \n14997              0     1                      0  support     low  \n14998              0     1                      0  support     low  \n\n[14999 rows x 8 columns]",
      "text/html": "<div>\n<style scoped>\n    .dataframe tbody tr th:only-of-type {\n        vertical-align: middle;\n    }\n\n    .dataframe tbody tr th {\n        vertical-align: top;\n    }\n\n    .dataframe thead th {\n        text-align: right;\n    }\n</style>\n<table border=\"1\" class=\"dataframe\">\n  <thead>\n    <tr style=\"text-align: right;\">\n      <th></th>\n      <th>number_project</th>\n      <th>average_montly_hours</th>\n      <th>time_spend_company</th>\n      <th>Work_accident</th>\n      <th>left</th>\n      <th>promotion_last_5years</th>\n      <th>sales</th>\n      <th>salary</th>\n    </tr>\n  </thead>\n  <tbody>\n    <tr>\n      <th>0</th>\n      <td>2</td>\n      <td>157</td>\n      <td>3</td>\n      <td>0</td>\n      <td>1</td>\n      <td>0</td>\n      <td>sales</td>\n      <td>low</td>\n    </tr>\n    <tr>\n      <th>1</th>\n      <td>5</td>\n      <td>262</td>\n      <td>6</td>\n      <td>0</td>\n      <td>1</td>\n      <td>0</td>\n      <td>sales</td>\n      <td>medium</td>\n    </tr>\n    <tr>\n      <th>2</th>\n      <td>7</td>\n      <td>272</td>\n      <td>4</td>\n      <td>0</td>\n      <td>1</td>\n      <td>0</td>\n      <td>sales</td>\n      <td>medium</td>\n    </tr>\n    <tr>\n      <th>3</th>\n      <td>5</td>\n      <td>223</td>\n      <td>5</td>\n      <td>0</td>\n      <td>1</td>\n      <td>0</td>\n      <td>sales</td>\n      <td>low</td>\n    </tr>\n    <tr>\n      <th>4</th>\n      <td>2</td>\n      <td>159</td>\n      <td>3</td>\n      <td>0</td>\n      <td>1</td>\n      <td>0</td>\n      <td>sales</td>\n      <td>low</td>\n    </tr>\n    <tr>\n      <th>...</th>\n      <td>...</td>\n      <td>...</td>\n      <td>...</td>\n      <td>...</td>\n      <td>...</td>\n      <td>...</td>\n      <td>...</td>\n      <td>...</td>\n    </tr>\n    <tr>\n      <th>14994</th>\n      <td>2</td>\n      <td>151</td>\n      <td>3</td>\n      <td>0</td>\n      <td>1</td>\n      <td>0</td>\n      <td>support</td>\n      <td>low</td>\n    </tr>\n    <tr>\n      <th>14995</th>\n      <td>2</td>\n      <td>160</td>\n      <td>3</td>\n      <td>0</td>\n      <td>1</td>\n      <td>0</td>\n      <td>support</td>\n      <td>low</td>\n    </tr>\n    <tr>\n      <th>14996</th>\n      <td>2</td>\n      <td>143</td>\n      <td>3</td>\n      <td>0</td>\n      <td>1</td>\n      <td>0</td>\n      <td>support</td>\n      <td>low</td>\n    </tr>\n    <tr>\n      <th>14997</th>\n      <td>6</td>\n      <td>280</td>\n      <td>4</td>\n      <td>0</td>\n      <td>1</td>\n      <td>0</td>\n      <td>support</td>\n      <td>low</td>\n    </tr>\n    <tr>\n      <th>14998</th>\n      <td>2</td>\n      <td>158</td>\n      <td>3</td>\n      <td>0</td>\n      <td>1</td>\n      <td>0</td>\n      <td>support</td>\n      <td>low</td>\n    </tr>\n  </tbody>\n</table>\n<p>14999 rows × 8 columns</p>\n</div>"
     },
     "execution_count": 39,
     "metadata": {},
     "output_type": "execute_result"
    }
   ],
   "source": [
    "df.loc[:,'number_project':]"
   ],
   "metadata": {
    "collapsed": false,
    "ExecuteTime": {
     "end_time": "2023-05-21T08:31:14.405811600Z",
     "start_time": "2023-05-21T08:31:14.362045900Z"
    }
   }
  },
  {
   "cell_type": "code",
   "execution_count": 41,
   "outputs": [
    {
     "data": {
      "text/plain": "satisfaction_level                                                 9191.89\nlast_evaluation                                                   10740.81\nnumber_project                                                       57042\naverage_montly_hours                                               3015554\ntime_spend_company                                                   52470\nWork_accident                                                         2169\nleft                                                                  3571\npromotion_last_5years                                                  319\nsales                    salessalessalessalessalessalessalessalessaless...\nsalary                   lowmediummediumlowlowlowlowlowlowlowlowlowlowl...\ndtype: object"
     },
     "execution_count": 41,
     "metadata": {},
     "output_type": "execute_result"
    }
   ],
   "source": [
    "df.sum()"
   ],
   "metadata": {
    "collapsed": false,
    "ExecuteTime": {
     "end_time": "2023-05-21T08:31:38.843919100Z",
     "start_time": "2023-05-21T08:31:38.789820100Z"
    }
   }
  },
  {
   "cell_type": "code",
   "execution_count": 45,
   "outputs": [
    {
     "data": {
      "text/plain": "0        38.0 %\n1        80.0 %\n2        11.0 %\n3        72.0 %\n4        37.0 %\n          ...  \n14994    40.0 %\n14995    37.0 %\n14996    37.0 %\n14997    11.0 %\n14998    37.0 %\nName: satisfaction_level, Length: 14999, dtype: object"
     },
     "execution_count": 45,
     "metadata": {},
     "output_type": "execute_result"
    }
   ],
   "source": [
    "df['satisfaction_level'].apply(lambda x: str(x*100) + ' %')"
   ],
   "metadata": {
    "collapsed": false,
    "ExecuteTime": {
     "end_time": "2023-05-21T08:39:28.985268400Z",
     "start_time": "2023-05-21T08:39:28.939368800Z"
    }
   }
  },
  {
   "cell_type": "code",
   "execution_count": 50,
   "outputs": [
    {
     "data": {
      "text/plain": "satisfaction_level\n0.09    195\n0.10    358\n0.11    335\n0.12     30\n0.13     54\n       ... \n0.96    203\n0.97    176\n0.98    183\n0.99    172\n1.00    111\nLength: 92, dtype: int64"
     },
     "execution_count": 50,
     "metadata": {},
     "output_type": "execute_result"
    }
   ],
   "source": [
    "df1 = df.groupby('satisfaction_level')\n",
    "\n",
    "df1.size()"
   ],
   "metadata": {
    "collapsed": false,
    "ExecuteTime": {
     "end_time": "2023-05-21T08:59:12.148152700Z",
     "start_time": "2023-05-21T08:59:12.132121500Z"
    }
   }
  },
  {
   "cell_type": "code",
   "execution_count": 51,
   "outputs": [
    {
     "ename": "NameError",
     "evalue": "name 'asd' is not defined",
     "output_type": "error",
     "traceback": [
      "\u001B[1;31m---------------------------------------------------------------------------\u001B[0m",
      "\u001B[1;31mNameError\u001B[0m                                 Traceback (most recent call last)",
      "Cell \u001B[1;32mIn[51], line 1\u001B[0m\n\u001B[1;32m----> 1\u001B[0m \u001B[43masd\u001B[49m\n",
      "\u001B[1;31mNameError\u001B[0m: name 'asd' is not defined"
     ]
    }
   ],
   "source": [],
   "metadata": {
    "collapsed": false,
    "ExecuteTime": {
     "end_time": "2023-05-21T09:30:35.336155400Z",
     "start_time": "2023-05-21T09:30:35.273343700Z"
    }
   }
  },
  {
   "cell_type": "code",
   "execution_count": null,
   "outputs": [],
   "source": [],
   "metadata": {
    "collapsed": false
   }
  }
 ],
 "metadata": {
  "kernelspec": {
   "display_name": "Python 3",
   "language": "python",
   "name": "python3"
  },
  "language_info": {
   "codemirror_mode": {
    "name": "ipython",
    "version": 2
   },
   "file_extension": ".py",
   "mimetype": "text/x-python",
   "name": "python",
   "nbconvert_exporter": "python",
   "pygments_lexer": "ipython2",
   "version": "2.7.6"
  }
 },
 "nbformat": 4,
 "nbformat_minor": 0
}
